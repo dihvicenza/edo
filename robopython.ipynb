{
 "cells": [
  {
   "cell_type": "markdown",
   "id": "0dc2d7fd",
   "metadata": {},
   "source": [
    "# La libreria eduedo (pyedo)"
   ]
  },
  {
   "cell_type": "code",
   "execution_count": 1,
   "id": "19054175",
   "metadata": {},
   "outputs": [],
   "source": [
    "import time\n",
    "from timeit import default_timer as timer\n",
    "from datetime import timedelta\n",
    "from pyedo import eduedo"
   ]
  },
  {
   "cell_type": "markdown",
   "id": "6e2b1ad5",
   "metadata": {},
   "source": [
    "È possibile connettersi all'e.DO tramite:\n",
    "- Wi-Fi con indirizzo: 192.168.12.1\n",
    "- Ethernet/LAN con indirizzo: 10.42.0.49"
   ]
  },
  {
   "cell_type": "code",
   "execution_count": null,
   "id": "680eba0f",
   "metadata": {},
   "outputs": [],
   "source": [
    "ip_address = \"\"\n",
    "myedo = eduedo(ip_address) # creazione istanza edo"
   ]
  },
  {
   "cell_type": "markdown",
   "id": "ee786777",
   "metadata": {},
   "source": [
    "# Come sbloccare l'e.DO in sicurezza\n",
    "Se l'e.DO incontra un punto di singolarità (non riesce a procedere con il movimento) oppure entra in collisione e si bloccano i freni, bisogna usare i seguenti metodi secondo l'esigenza:"
   ]
  },
  {
   "cell_type": "code",
   "execution_count": null,
   "id": "97111851",
   "metadata": {},
   "outputs": [],
   "source": [
    "myedo.moveCancel() # annulla l'ultima movimentazione"
   ]
  },
  {
   "cell_type": "code",
   "execution_count": 46,
   "id": "0d6c0081",
   "metadata": {},
   "outputs": [],
   "source": [
    "myedo.disengageStd() # sblocca i freni"
   ]
  },
  {
   "cell_type": "code",
   "execution_count": null,
   "id": "2ad565e5",
   "metadata": {},
   "outputs": [],
   "source": [
    "myedo.unblockMyedo() # se l'e.DO non risponde ai comandi, questa funzione lo sblocca e lo riporta a home"
   ]
  },
  {
   "cell_type": "code",
   "execution_count": 9,
   "id": "72e96ccf",
   "metadata": {
    "scrolled": true
   },
   "outputs": [
    {
     "name": "stdout",
     "output_type": "stream",
     "text": [
      "Disconnected from ROS: can connect to the app.\n"
     ]
    }
   ],
   "source": [
    "myedo.disconnectMyedo() # sconnette l'e.DO dal websocket"
   ]
  },
  {
   "cell_type": "code",
   "execution_count": null,
   "id": "c37276db",
   "metadata": {},
   "outputs": [],
   "source": [
    "myedo.connectreconnectMyedo() # riconnetti al websocket dopo un disconnect"
   ]
  },
  {
   "cell_type": "markdown",
   "id": "20af7b41",
   "metadata": {},
   "source": [
    "# TASK 0: Primo movimento"
   ]
  },
  {
   "cell_type": "code",
   "execution_count": 8,
   "id": "c734d43b",
   "metadata": {},
   "outputs": [],
   "source": [
    "# Comandi utili\n",
    "# myedo.moveJoints(0, 0, 0, 0, 0, 0)\n",
    "# myedo.moveCartesian(0, 0, 0, 0, 0, 0)\n",
    "# myedo.gripperOpen()\n",
    "# myedo.gripperClose()\n",
    "# time.sleep(1) # in secondi"
   ]
  },
  {
   "cell_type": "code",
   "execution_count": null,
   "id": "0aae3133",
   "metadata": {},
   "outputs": [],
   "source": [
    "myedo.setSpeed(70) # imposta la velocità\n",
    "\n",
    "# Inserisci il tuo codice\n"
   ]
  },
  {
   "cell_type": "markdown",
   "id": "cf38f7b5",
   "metadata": {},
   "source": [
    "# TASK 1: La movimentazione dei container\n",
    "Sposta il container dalla posizione iniziale a quella finale, come nelle slide."
   ]
  },
  {
   "cell_type": "code",
   "execution_count": 10,
   "id": "bb9e6c13",
   "metadata": {},
   "outputs": [],
   "source": [
    "# Inserisci il tuo codice\n"
   ]
  },
  {
   "cell_type": "markdown",
   "id": "38fa5480",
   "metadata": {},
   "source": [
    "# Basi di Python"
   ]
  },
  {
   "cell_type": "markdown",
   "id": "59d77ed9",
   "metadata": {},
   "source": [
    "## Tipi di variabile"
   ]
  },
  {
   "cell_type": "code",
   "execution_count": null,
   "id": "524dd59d",
   "metadata": {},
   "outputs": [],
   "source": []
  },
  {
   "cell_type": "markdown",
   "id": "008f9ab4",
   "metadata": {},
   "source": [
    "## Operazioni"
   ]
  },
  {
   "cell_type": "code",
   "execution_count": null,
   "id": "4cffb9e0",
   "metadata": {},
   "outputs": [],
   "source": []
  },
  {
   "cell_type": "markdown",
   "id": "cb72da00",
   "metadata": {},
   "source": [
    "## If ... else"
   ]
  },
  {
   "cell_type": "code",
   "execution_count": null,
   "id": "33f6098d",
   "metadata": {},
   "outputs": [],
   "source": []
  },
  {
   "cell_type": "markdown",
   "id": "349494d3",
   "metadata": {},
   "source": [
    "# TASK 2: La logistica del terminal"
   ]
  },
  {
   "cell_type": "code",
   "execution_count": null,
   "id": "86a9c13c",
   "metadata": {},
   "outputs": [],
   "source": [
    "# Inserisci il tuo codice\n"
   ]
  },
  {
   "cell_type": "markdown",
   "id": "0ad07051",
   "metadata": {},
   "source": [
    "## While..."
   ]
  },
  {
   "cell_type": "code",
   "execution_count": null,
   "id": "91b83629",
   "metadata": {},
   "outputs": [],
   "source": []
  },
  {
   "cell_type": "markdown",
   "id": "6a815555",
   "metadata": {},
   "source": [
    "## Liste"
   ]
  },
  {
   "cell_type": "code",
   "execution_count": null,
   "id": "25946d48",
   "metadata": {},
   "outputs": [],
   "source": []
  },
  {
   "cell_type": "markdown",
   "id": "dcb146ec",
   "metadata": {},
   "source": [
    "# TASK 3: Lo stivaggio dei container"
   ]
  },
  {
   "cell_type": "code",
   "execution_count": null,
   "id": "036f64eb",
   "metadata": {},
   "outputs": [],
   "source": [
    "# Inserisci il tuo codice\n"
   ]
  },
  {
   "cell_type": "markdown",
   "id": "3354b99c",
   "metadata": {},
   "source": [
    "## Funzioni"
   ]
  },
  {
   "cell_type": "code",
   "execution_count": 5,
   "id": "fe212430",
   "metadata": {},
   "outputs": [],
   "source": [
    "def get_class(var):\n",
    "    print(type(var))"
   ]
  },
  {
   "cell_type": "code",
   "execution_count": 6,
   "id": "76ad6673",
   "metadata": {},
   "outputs": [
    {
     "name": "stdout",
     "output_type": "stream",
     "text": [
      "<class 'int'>\n",
      "<class 'bool'>\n",
      "<class 'float'>\n",
      "<class 'str'>\n"
     ]
    }
   ],
   "source": [
    "get_class(myint)\n",
    "get_class(mybool)\n",
    "get_class(myfloat)\n",
    "get_class(mystring)"
   ]
  },
  {
   "cell_type": "markdown",
   "id": "7190a36d",
   "metadata": {},
   "source": [
    "# Esercizi aggiuntivi\n",
    "Sperimentate con le funzioni per effettuare movimenti più sofisticati, ad esempio:\n",
    "\n",
    "1. Componi un hamburger partendo da pile di blocchetti di diverso colore, e ponendoli uno sopra l'altro in un ordine prestabilito.\n",
    "2. Usando le liste, parti da pile con blocchetti di diverso colore e disponili in pile, ciascuna con blocchetti dello stesso colore."
   ]
  },
  {
   "cell_type": "code",
   "execution_count": null,
   "id": "dde54eaa",
   "metadata": {},
   "outputs": [],
   "source": []
  }
 ],
 "metadata": {
  "kernelspec": {
   "display_name": "Python 3 (ipykernel)",
   "language": "python",
   "name": "python3"
  },
  "language_info": {
   "codemirror_mode": {
    "name": "ipython",
    "version": 3
   },
   "file_extension": ".py",
   "mimetype": "text/x-python",
   "name": "python",
   "nbconvert_exporter": "python",
   "pygments_lexer": "ipython3",
   "version": "3.9.16"
  },
  "vscode": {
   "interpreter": {
    "hash": "df9893041411d488f82467a300a69a6bbcb2c7d1fb2b733e0e5c997babeb3d01"
   }
  }
 },
 "nbformat": 4,
 "nbformat_minor": 5
}
