{
 "cells": [
  {
   "cell_type": "markdown",
   "id": "38fa5480",
   "metadata": {},
   "source": [
    "# Ripasso basi di Python"
   ]
  },
  {
   "cell_type": "markdown",
   "id": "62dfa8aa",
   "metadata": {},
   "source": [
    "## Stringhe"
   ]
  },
  {
   "cell_type": "code",
   "execution_count": null,
   "id": "07961656",
   "metadata": {},
   "outputs": [],
   "source": []
  },
  {
   "cell_type": "markdown",
   "id": "28b35294",
   "metadata": {},
   "source": [
    "## Tipi di variabile"
   ]
  },
  {
   "cell_type": "code",
   "execution_count": 3,
   "id": "ee5c894c",
   "metadata": {},
   "outputs": [],
   "source": [
    "myint = 33\n",
    "mybool = True\n",
    "myfloat = 21.3"
   ]
  },
  {
   "cell_type": "markdown",
   "id": "2b27d8ef",
   "metadata": {},
   "source": [
    "## Funzioni"
   ]
  },
  {
   "cell_type": "code",
   "execution_count": 4,
   "id": "affa1c78",
   "metadata": {},
   "outputs": [],
   "source": [
    "def get_class(var):\n",
    "    print(type(var))"
   ]
  },
  {
   "cell_type": "code",
   "execution_count": 5,
   "id": "e84f3641",
   "metadata": {},
   "outputs": [
    {
     "name": "stdout",
     "output_type": "stream",
     "text": [
      "<class 'str'>\n",
      "<class 'int'>\n",
      "<class 'bool'>\n",
      "<class 'float'>\n"
     ]
    }
   ],
   "source": [
    "get_class(mystring)\n",
    "get_class(myint)\n",
    "get_class(mybool)\n",
    "get_class(myfloat)"
   ]
  },
  {
   "cell_type": "markdown",
   "id": "d5002eab",
   "metadata": {},
   "source": [
    "## Operazioni"
   ]
  },
  {
   "cell_type": "code",
   "execution_count": null,
   "id": "1c4b9de2",
   "metadata": {},
   "outputs": [],
   "source": []
  },
  {
   "cell_type": "markdown",
   "id": "d31ee934",
   "metadata": {},
   "source": [
    "## If ... else"
   ]
  },
  {
   "cell_type": "code",
   "execution_count": 9,
   "id": "4f821edc",
   "metadata": {},
   "outputs": [
    {
     "name": "stdout",
     "output_type": "stream",
     "text": [
      "one\n"
     ]
    }
   ],
   "source": []
  },
  {
   "cell_type": "markdown",
   "id": "2422eb3c",
   "metadata": {},
   "source": [
    "## While..."
   ]
  },
  {
   "cell_type": "code",
   "execution_count": 10,
   "id": "0920f56f",
   "metadata": {},
   "outputs": [],
   "source": []
  },
  {
   "cell_type": "markdown",
   "id": "7d72f346",
   "metadata": {},
   "source": [
    "## Liste"
   ]
  },
  {
   "cell_type": "code",
   "execution_count": null,
   "id": "266278b2",
   "metadata": {},
   "outputs": [],
   "source": []
  },
  {
   "cell_type": "markdown",
   "id": "f5054760",
   "metadata": {},
   "source": [
    "## Try ... catch"
   ]
  },
  {
   "cell_type": "code",
   "execution_count": 1,
   "id": "8c0c8d49",
   "metadata": {},
   "outputs": [
    {
     "name": "stdout",
     "output_type": "stream",
     "text": [
      "Ok\n"
     ]
    }
   ],
   "source": [
    "try:\n",
    "    print(\"Ok\")\n",
    "except:\n",
    "    print(\"Error\")"
   ]
  },
  {
   "cell_type": "markdown",
   "id": "0dc2d7fd",
   "metadata": {},
   "source": [
    "# Libreria Edo"
   ]
  },
  {
   "cell_type": "code",
   "execution_count": 1,
   "id": "19054175",
   "metadata": {},
   "outputs": [],
   "source": [
    "import time\n",
    "from timeit import default_timer as timer\n",
    "from datetime import timedelta\n",
    "from pyedo import eduedo"
   ]
  },
  {
   "cell_type": "markdown",
   "id": "6e2b1ad5",
   "metadata": {},
   "source": [
    "È possibile connettersi all'e.DO tramite:\n",
    "- Wi-Fi con indirizzo: 192.168.12.1\n",
    "- Ethernet/LAN con indirizzo: 10.42.0.49"
   ]
  },
  {
   "cell_type": "code",
   "execution_count": 2,
   "id": "680eba0f",
   "metadata": {},
   "outputs": [
    {
     "name": "stderr",
     "output_type": "stream",
     "text": [
      "This process is not trusted! Input event monitoring will not be possible until it is added to accessibility clients.\n"
     ]
    },
    {
     "name": "stdout",
     "output_type": "stream",
     "text": [
      "Connected with e.DO\n",
      "e.DO with Gripper has been initialized\n",
      "e.DO is ready to have fun!\n"
     ]
    }
   ],
   "source": [
    "ip_address = \"192.168.12.1\"\n",
    "myedo = eduedo(ip_address) # creazione istanza edo"
   ]
  },
  {
   "cell_type": "markdown",
   "id": "ee786777",
   "metadata": {},
   "source": [
    "# Come sbloccare l'e.DO in sicurezza\n",
    "Se l'e.DO incontra un punto di singolarità (non riesce a procedere con il movimento) oppure entra in collisione e si bloccano i freni, bisogna usare i seguenti metodi secondo l'esigenza:"
   ]
  },
  {
   "cell_type": "code",
   "execution_count": null,
   "id": "97111851",
   "metadata": {},
   "outputs": [],
   "source": [
    "myedo.moveCancel() # annulla l'ultima movimentazione"
   ]
  },
  {
   "cell_type": "code",
   "execution_count": 46,
   "id": "0d6c0081",
   "metadata": {},
   "outputs": [],
   "source": [
    "myedo.disengageSafe() # sblocca i freni"
   ]
  },
  {
   "cell_type": "code",
   "execution_count": null,
   "id": "2ad565e5",
   "metadata": {},
   "outputs": [],
   "source": [
    "myedo.unblock() # se l'e.DO non risponde ai comandi, questa funzione lo sblocca e lo riporta a home"
   ]
  },
  {
   "cell_type": "code",
   "execution_count": 9,
   "id": "72e96ccf",
   "metadata": {},
   "outputs": [
    {
     "name": "stdout",
     "output_type": "stream",
     "text": [
      "Disconnected from ROS: can connect to the app.\n"
     ]
    }
   ],
   "source": [
    "myedo.disconnectMyedo() # sconnette l'e.DO dal websocket"
   ]
  },
  {
   "cell_type": "markdown",
   "id": "20af7b41",
   "metadata": {},
   "source": [
    "# Movimentazione semplice"
   ]
  },
  {
   "cell_type": "code",
   "execution_count": 3,
   "id": "01a4c7cb",
   "metadata": {},
   "outputs": [
    {
     "name": "stdout",
     "output_type": "stream",
     "text": [
      "[0.0, 0.0, 0.0, -0.0, -0.0, -0.0]\n"
     ]
    }
   ],
   "source": [
    "joints = myedo.getJoints()\n",
    "print(joints)\n",
    "\n",
    "myedo.setSpeed(70)"
   ]
  },
  {
   "cell_type": "code",
   "execution_count": 4,
   "id": "c734d43b",
   "metadata": {},
   "outputs": [],
   "source": [
    "myedo.moveJoints(0, 30, 60, 0, 90, 0)"
   ]
  },
  {
   "cell_type": "code",
   "execution_count": 5,
   "id": "65cb6688",
   "metadata": {},
   "outputs": [],
   "source": [
    "myedo.moveCartesian(400, 0, 100)"
   ]
  },
  {
   "cell_type": "code",
   "execution_count": 6,
   "id": "18cb9d26",
   "metadata": {},
   "outputs": [],
   "source": [
    "myedo.moveSingleJoint(1, 70)"
   ]
  },
  {
   "cell_type": "code",
   "execution_count": 7,
   "id": "ff123a89",
   "metadata": {},
   "outputs": [],
   "source": [
    "myedo.gripperOpen()\n",
    "time.sleep(1)\n",
    "myedo.gripperClose()"
   ]
  },
  {
   "cell_type": "code",
   "execution_count": 8,
   "id": "c495d3da",
   "metadata": {},
   "outputs": [],
   "source": [
    "myedo.moveToHome()"
   ]
  },
  {
   "cell_type": "markdown",
   "id": "87ecabb9",
   "metadata": {},
   "source": [
    "# Esercizi"
   ]
  },
  {
   "cell_type": "markdown",
   "id": "cadf0128",
   "metadata": {},
   "source": [
    "## Esercizio 1"
   ]
  },
  {
   "cell_type": "code",
   "execution_count": null,
   "id": "75a3d339",
   "metadata": {},
   "outputs": [],
   "source": []
  },
  {
   "cell_type": "markdown",
   "id": "d9b9cbfb",
   "metadata": {},
   "source": [
    "## Esercizio 2"
   ]
  },
  {
   "cell_type": "code",
   "execution_count": null,
   "id": "d548a321",
   "metadata": {},
   "outputs": [],
   "source": []
  },
  {
   "cell_type": "markdown",
   "id": "ffdf4c23",
   "metadata": {},
   "source": [
    "## Esercizio 3"
   ]
  },
  {
   "cell_type": "code",
   "execution_count": null,
   "id": "5a339dcd",
   "metadata": {},
   "outputs": [],
   "source": []
  }
 ],
 "metadata": {
  "kernelspec": {
   "display_name": "Python 3 (ipykernel)",
   "language": "python",
   "name": "python3"
  },
  "language_info": {
   "codemirror_mode": {
    "name": "ipython",
    "version": 3
   },
   "file_extension": ".py",
   "mimetype": "text/x-python",
   "name": "python",
   "nbconvert_exporter": "python",
   "pygments_lexer": "ipython3",
   "version": "3.9.16"
  },
  "vscode": {
   "interpreter": {
    "hash": "df9893041411d488f82467a300a69a6bbcb2c7d1fb2b733e0e5c997babeb3d01"
   }
  }
 },
 "nbformat": 4,
 "nbformat_minor": 5
}
