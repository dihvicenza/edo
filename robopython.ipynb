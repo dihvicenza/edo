{
 "cells": [
  {
   "cell_type": "markdown",
   "id": "38fa5480",
   "metadata": {},
   "source": [
    "# Ripasso basi di Python"
   ]
  },
  {
   "cell_type": "code",
   "execution_count": 1,
   "id": "07961656",
   "metadata": {},
   "outputs": [
    {
     "name": "stdout",
     "output_type": "stream",
     "text": [
      "'gu'\n",
      "<class 'str'>\n"
     ]
    }
   ],
   "source": [
    "mystring = \"'gu'\"\n",
    "print(mystring)\n",
    "print(type(mystring))"
   ]
  },
  {
   "cell_type": "code",
   "execution_count": 2,
   "id": "ee5c894c",
   "metadata": {},
   "outputs": [],
   "source": [
    "myint = 33\n",
    "mybool = True\n",
    "myfloat = 21.3"
   ]
  },
  {
   "cell_type": "code",
   "execution_count": 3,
   "id": "affa1c78",
   "metadata": {},
   "outputs": [],
   "source": [
    "def get_class(var):\n",
    "    print(type(var))"
   ]
  },
  {
   "cell_type": "code",
   "execution_count": 4,
   "id": "e84f3641",
   "metadata": {},
   "outputs": [
    {
     "name": "stdout",
     "output_type": "stream",
     "text": [
      "<class 'str'>\n",
      "<class 'int'>\n",
      "<class 'bool'>\n",
      "<class 'float'>\n"
     ]
    }
   ],
   "source": [
    "get_class(mystring)\n",
    "get_class(myint)\n",
    "get_class(mybool)\n",
    "get_class(myfloat)"
   ]
  },
  {
   "cell_type": "code",
   "execution_count": 5,
   "id": "1c4b9de2",
   "metadata": {},
   "outputs": [
    {
     "data": {
      "text/plain": [
       "int"
      ]
     },
     "execution_count": 5,
     "metadata": {},
     "output_type": "execute_result"
    }
   ],
   "source": [
    "type(33+1)"
   ]
  },
  {
   "cell_type": "code",
   "execution_count": 6,
   "id": "96cc6869",
   "metadata": {},
   "outputs": [
    {
     "name": "stdout",
     "output_type": "stream",
     "text": [
      "1.0\n"
     ]
    },
    {
     "data": {
      "text/plain": [
       "float"
      ]
     },
     "execution_count": 6,
     "metadata": {},
     "output_type": "execute_result"
    }
   ],
   "source": [
    "q = 2/2\n",
    "print(q)\n",
    "type(q)"
   ]
  },
  {
   "cell_type": "code",
   "execution_count": 7,
   "id": "ae42881c",
   "metadata": {},
   "outputs": [
    {
     "data": {
      "text/plain": [
       "'b'"
      ]
     },
     "execution_count": 7,
     "metadata": {},
     "output_type": "execute_result"
    }
   ],
   "source": [
    "mystring = 'a'\n",
    "mystring.join('b')"
   ]
  },
  {
   "cell_type": "code",
   "execution_count": 8,
   "id": "4f821edc",
   "metadata": {},
   "outputs": [
    {
     "name": "stdout",
     "output_type": "stream",
     "text": [
      "one\n"
     ]
    }
   ],
   "source": [
    "a = -1\n",
    "b = 0\n",
    "\n",
    "if a < 0:\n",
    "    print('one')\n",
    "elif b == 0:\n",
    "    print('two')"
   ]
  },
  {
   "cell_type": "code",
   "execution_count": 9,
   "id": "0920f56f",
   "metadata": {},
   "outputs": [],
   "source": [
    "while 0:\n",
    "    print('print')\n",
    "    break"
   ]
  },
  {
   "cell_type": "code",
   "execution_count": 10,
   "id": "266278b2",
   "metadata": {},
   "outputs": [
    {
     "name": "stdout",
     "output_type": "stream",
     "text": [
      "[1, 1, 2]\n",
      "[1, 1, 2]\n",
      "[2, 1, 2]\n"
     ]
    }
   ],
   "source": [
    "a = [0,1,2]\n",
    "b = a\n",
    "c = a.copy()\n",
    "\n",
    "b[0] = 1\n",
    "c[0] = 2\n",
    "\n",
    "print(a)\n",
    "print(b)\n",
    "print(c)"
   ]
  },
  {
   "cell_type": "code",
   "execution_count": 11,
   "id": "8c0c8d49",
   "metadata": {},
   "outputs": [
    {
     "name": "stdout",
     "output_type": "stream",
     "text": [
      "Not found\n"
     ]
    }
   ],
   "source": [
    "try:\n",
    "    i = b.index(4)\n",
    "    print(i)\n",
    "except:\n",
    "    print(\"Not found\")"
   ]
  },
  {
   "cell_type": "markdown",
   "id": "0dc2d7fd",
   "metadata": {},
   "source": [
    "# Libreria Edo"
   ]
  },
  {
   "cell_type": "code",
   "execution_count": 2,
   "id": "19054175",
   "metadata": {},
   "outputs": [],
   "source": [
    "import time\n",
    "from timeit import default_timer as timer\n",
    "from datetime import timedelta\n",
    "from pyedo import eduedo"
   ]
  },
  {
   "cell_type": "code",
   "execution_count": 2,
   "id": "680eba0f",
   "metadata": {},
   "outputs": [
    {
     "name": "stderr",
     "output_type": "stream",
     "text": [
      "This process is not trusted! Input event monitoring will not be possible until it is added to accessibility clients.\n"
     ]
    },
    {
     "name": "stdout",
     "output_type": "stream",
     "text": [
      "Connected with e.DO\n",
      "e.DO with Gripper has been initialized\n",
      "e.DO is ready to have fun!\n"
     ]
    }
   ],
   "source": [
    "ip_address = \"192.168.12.1\"\n",
    "myedo = eduedo(ip_address) # creazione istanza edo"
   ]
  },
  {
   "cell_type": "code",
   "execution_count": 4,
   "id": "01a4c7cb",
   "metadata": {},
   "outputs": [
    {
     "name": "stdout",
     "output_type": "stream",
     "text": [
      "[0.0, 0.0, 0.0, -0.0, -0.0, -0.0]\n"
     ]
    }
   ],
   "source": [
    "joints = myedo.getJoints()\n",
    "print(joints)\n",
    "\n",
    "myedo.setSpeed(70)"
   ]
  },
  {
   "cell_type": "code",
   "execution_count": 11,
   "id": "c734d43b",
   "metadata": {},
   "outputs": [],
   "source": [
    "myedo.moveJoints(0, 30, 60, 0, 90, 0)"
   ]
  },
  {
   "cell_type": "code",
   "execution_count": 6,
   "id": "65cb6688",
   "metadata": {},
   "outputs": [],
   "source": [
    "myedo.moveCartesian(400, 0, 100)"
   ]
  },
  {
   "cell_type": "code",
   "execution_count": 7,
   "id": "18cb9d26",
   "metadata": {},
   "outputs": [],
   "source": [
    "myedo.moveSingleJoint(1, 70)"
   ]
  },
  {
   "cell_type": "code",
   "execution_count": 8,
   "id": "ff123a89",
   "metadata": {},
   "outputs": [],
   "source": [
    "myedo.gripperOpen()\n",
    "time.sleep(1)\n",
    "myedo.gripperClose()"
   ]
  },
  {
   "cell_type": "code",
   "execution_count": 9,
   "id": "c495d3da",
   "metadata": {},
   "outputs": [],
   "source": [
    "myedo.moveToHome()"
   ]
  },
  {
   "cell_type": "code",
   "execution_count": 10,
   "id": "72e96ccf",
   "metadata": {},
   "outputs": [
    {
     "name": "stdout",
     "output_type": "stream",
     "text": [
      "Disconnected from ROS: can connect to the app.\n"
     ]
    }
   ],
   "source": [
    "myedo.disconnectMyedo()\n",
    "#myedo.disconnect()"
   ]
  },
  {
   "cell_type": "code",
   "execution_count": 62,
   "id": "ef94adab",
   "metadata": {},
   "outputs": [],
   "source": [
    "myedo.moveCancel()"
   ]
  },
  {
   "cell_type": "code",
   "execution_count": 46,
   "id": "0d6c0081",
   "metadata": {},
   "outputs": [],
   "source": [
    "myedo.disengageSafe()"
   ]
  },
  {
   "cell_type": "code",
   "execution_count": 47,
   "id": "71955d97",
   "metadata": {},
   "outputs": [],
   "source": [
    "myedo.unblock()"
   ]
  },
  {
   "cell_type": "markdown",
   "id": "8eb2c3c9",
   "metadata": {},
   "source": [
    "## Example 1"
   ]
  },
  {
   "cell_type": "code",
   "execution_count": 59,
   "id": "6d8b2104",
   "metadata": {},
   "outputs": [],
   "source": [
    "r_svincolo = [350, 100]\n",
    "b_svincolo = [300, 300]\n",
    "g_svincolo = [300, 300]\n",
    "\n",
    "def moveToDest(y, dest_x, dest_y):\n",
    "    myedo.moveCartesian(410,y,100)\n",
    "    myedo.gripperOpen()\n",
    "    myedo.moveCartesian(410,y,50)\n",
    "    myedo.gripperClose()\n",
    "    myedo.moveCartesian(410,y,100)\n",
    "    myedo.moveCartesian(r_svincolo[0], r_svincolo[1], 100) # punto di svincolo\n",
    "    myedo.moveCartesian(dest_x, dest_y, 100) # destinazione\n",
    "    myedo.moveCartesian(dest_x, dest_y, 20) # abbassare alla plancia\n",
    "    myedo.gripperOpen() # molla il blocco\n",
    "    myedo.moveCartesian(r_svincolo[0], r_svincolo[1], 100) # punto di svincolo\n"
   ]
  },
  {
   "cell_type": "code",
   "execution_count": 60,
   "id": "eee871dc",
   "metadata": {},
   "outputs": [],
   "source": [
    "myedo.moveJoints(0,45,45,0,90,0)\n",
    "\n",
    "delta = 0\n",
    "\n",
    "for y in range(-150, 151, 100):\n",
    "    if y < 0: # caso red\n",
    "        moveToDest(y, 300, 200 + delta)\n",
    "        delta += 50\n",
    "    elif y == 50: # caso green\n",
    "        moveToDest(y, 250, 300)\n",
    "    else: # caso blue\n",
    "        moveToDest(y, 200, 420) \n",
    "\n",
    "myedo.moveJoints(0,45,45,0,90,0)\n"
   ]
  },
  {
   "cell_type": "markdown",
   "id": "dd94bae5",
   "metadata": {},
   "source": [
    "# Example 2"
   ]
  },
  {
   "cell_type": "code",
   "execution_count": 68,
   "id": "01f8f63f",
   "metadata": {},
   "outputs": [
    {
     "name": "stdout",
     "output_type": "stream",
     "text": [
      "Time spent by the robot!\n",
      "0:02:17.974922\n"
     ]
    }
   ],
   "source": [
    "dest_r = [250, -250]\n",
    "dest_g = [250, 250]\n",
    "\n",
    "def moveToBasket(x, y, x_dest, y_dest):\n",
    "    myedo.moveCartesian(x, y, 120)\n",
    "    if x_dest is None:\n",
    "        return\n",
    "    myedo.gripperOpen()\n",
    "    myedo.moveCartesian(x, y, 50)\n",
    "    myedo.gripperClose()\n",
    "    myedo.moveCartesian(x, y, 120)\n",
    "    myedo.moveCartesian(x_dest, y_dest, 120)\n",
    "    myedo.gripperOpen()\n",
    "\n",
    "start_t = timer()\n",
    "\n",
    "for y in range(-100, 101, 100):\n",
    "    for x in range(350, 451, 50):\n",
    "        if y < 0: # red\n",
    "            moveToBasket(x, y, dest_r[0], dest_r[1])\n",
    "        elif y == 0:\n",
    "            moveToBasket(x, y, None, None)\n",
    "        elif y > 0: # yellow\n",
    "            moveToBasket(x, y, dest_g[0], dest_g[1])\n",
    "\n",
    "end_t = timer()\n",
    "print(\"Time spent by the robot!\")\n",
    "print(timedelta(seconds=end_t-start_t))\n"
   ]
  },
  {
   "cell_type": "code",
   "execution_count": 69,
   "id": "bc168018",
   "metadata": {},
   "outputs": [],
   "source": [
    "myedo.moveJoints(0, 30, 60, 0, 90, 0)"
   ]
  },
  {
   "cell_type": "code",
   "execution_count": 91,
   "id": "2b8dbb0f",
   "metadata": {},
   "outputs": [],
   "source": [
    "myedo.moveToHome()"
   ]
  },
  {
   "cell_type": "code",
   "execution_count": null,
   "id": "cadf0128",
   "metadata": {},
   "outputs": [],
   "source": []
  }
 ],
 "metadata": {
  "kernelspec": {
   "display_name": "Python 3 (ipykernel)",
   "language": "python",
   "name": "python3"
  },
  "language_info": {
   "codemirror_mode": {
    "name": "ipython",
    "version": 3
   },
   "file_extension": ".py",
   "mimetype": "text/x-python",
   "name": "python",
   "nbconvert_exporter": "python",
   "pygments_lexer": "ipython3",
   "version": "3.9.16"
  },
  "vscode": {
   "interpreter": {
    "hash": "df9893041411d488f82467a300a69a6bbcb2c7d1fb2b733e0e5c997babeb3d01"
   }
  }
 },
 "nbformat": 4,
 "nbformat_minor": 5
}
